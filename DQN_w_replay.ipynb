{
  "nbformat": 4,
  "nbformat_minor": 0,
  "metadata": {
    "colab": {
      "provenance": [],
      "authorship_tag": "ABX9TyM7gLaQ+PqVlDAcAVe1Z26R",
      "include_colab_link": true
    },
    "kernelspec": {
      "name": "python3",
      "display_name": "Python 3"
    },
    "language_info": {
      "name": "python"
    }
  },
  "cells": [
    {
      "cell_type": "markdown",
      "metadata": {
        "id": "view-in-github",
        "colab_type": "text"
      },
      "source": [
        "<a href=\"https://colab.research.google.com/github/nahianAl/DQN/blob/main/DQN_w_replay.ipynb\" target=\"_parent\"><img src=\"https://colab.research.google.com/assets/colab-badge.svg\" alt=\"Open In Colab\"/></a>"
      ]
    },
    {
      "cell_type": "code",
      "execution_count": 1,
      "metadata": {
        "id": "4fyUSeanbGRg"
      },
      "outputs": [],
      "source": [
        "import gym\n",
        "import torch\n",
        "import random\n",
        "\n",
        "from torch.autograd import Variable\n"
      ]
    },
    {
      "cell_type": "code",
      "source": [
        "class DQN():\n",
        "\n",
        "    def __init__(self, n_state, n_action, n_hidden , lr):\n",
        "        \n",
        "        self.criterion = torch.nn.MSELoss()\n",
        "\n",
        "        self.model = torch.nn.Sequential(\n",
        "\n",
        "            torch.nn.Linear(n_state, n_hidden),\n",
        "            torch.nn.ReLU(),\n",
        "            torch.nn.Linear(n_hidden,n_action)\n",
        "        )\n",
        "\n",
        "        self.optimizer = torch.optim.Adam(self.model.parameters(), lr)\n",
        "    \n",
        "    \n",
        "    def predict(self,s):\n",
        "        with torch.no_grad(): #why no_grad?\n",
        "            return self.model(torch.Tensor(s))\n",
        "\n",
        "    def update(self, s, y):\n",
        "\n",
        "        pred = self.model(torch.Tensor(s))\n",
        "\n",
        "        loss = self.criterion(pred,torch.Tensor(y))\n",
        "        self.optimizer.zero_grad()\n",
        "        loss.backward()\n",
        "        self.optimizer.step()\n"
      ],
      "metadata": {
        "id": "_cEikRANbXln"
      },
      "execution_count": 3,
      "outputs": []
    },
    {
      "cell_type": "code",
      "source": [
        "def eps_greedy_policy(neural_net, eps, n_action):\n",
        "\n",
        "    \n",
        "    def policy(state):\n",
        "        \n",
        "        if random.random() > eps:\n",
        "\n",
        "            q_value = neural_net.predict(state)\n",
        "            return torch.argmax(q_value).item()\n",
        "\n",
        "        else:\n",
        "            return random.randint(0, n_action - 1 )\n",
        "    \n",
        "    return policy \n",
        "    \n",
        "        "
      ],
      "metadata": {
        "id": "ZW1atZFMnmOU"
      },
      "execution_count": null,
      "outputs": []
    },
    {
      "cell_type": "code",
      "source": [
        "env = gym.envs.make(\"MountainCar-v0\")"
      ],
      "metadata": {
        "id": "EE6Hu-VgxJiZ"
      },
      "execution_count": null,
      "outputs": []
    },
    {
      "cell_type": "code",
      "source": [
        "def train_loop(neural_net, env , episodes, eps , eps_decay):\n",
        "\n",
        "    for episode in range(episodes):\n",
        "\n",
        "        policy = eps_greedy_policy(neural_net, eps, n_action)\n",
        "\n",
        "        state = env.reset()\n",
        "        is_done = False\n",
        "\n",
        "        while not is_done:\n",
        "            \n",
        "            action = policy(state)\n",
        "\n",
        "            next_state, reward, is_done, _ = env.step(action)\n",
        "\n",
        "            \n",
        "\n"
      ],
      "metadata": {
        "id": "gvgl9PbSqb0u"
      },
      "execution_count": null,
      "outputs": []
    },
    {
      "cell_type": "code",
      "source": [
        "n_action = env.action_space.shape[0]\n"
      ],
      "metadata": {
        "id": "sdFe88W6w9l_"
      },
      "execution_count": null,
      "outputs": []
    }
  ]
}